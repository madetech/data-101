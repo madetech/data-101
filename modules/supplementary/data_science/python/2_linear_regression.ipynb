{
 "cells": [
  {
   "cell_type": "markdown",
   "metadata": {},
   "source": [
    "In this notebook we implement the methods described in our notes on linear regression using python. For demonstration we are using a dataset representing the number of hours studied vs score, for a small group. Our aim is to estimate our test score given the number of hours we study."
   ]
  },
  {
   "cell_type": "code",
   "execution_count": 8,
   "metadata": {},
   "outputs": [
    {
     "data": {
      "text/html": [
       "<div>\n",
       "<style scoped>\n",
       "    .dataframe tbody tr th:only-of-type {\n",
       "        vertical-align: middle;\n",
       "    }\n",
       "\n",
       "    .dataframe tbody tr th {\n",
       "        vertical-align: top;\n",
       "    }\n",
       "\n",
       "    .dataframe thead th {\n",
       "        text-align: right;\n",
       "    }\n",
       "</style>\n",
       "<table border=\"1\" class=\"dataframe\">\n",
       "  <thead>\n",
       "    <tr style=\"text-align: right;\">\n",
       "      <th></th>\n",
       "      <th>Hours</th>\n",
       "      <th>Scores</th>\n",
       "    </tr>\n",
       "  </thead>\n",
       "  <tbody>\n",
       "    <tr>\n",
       "      <th>0</th>\n",
       "      <td>2.5</td>\n",
       "      <td>21</td>\n",
       "    </tr>\n",
       "    <tr>\n",
       "      <th>1</th>\n",
       "      <td>5.1</td>\n",
       "      <td>47</td>\n",
       "    </tr>\n",
       "    <tr>\n",
       "      <th>2</th>\n",
       "      <td>3.2</td>\n",
       "      <td>27</td>\n",
       "    </tr>\n",
       "    <tr>\n",
       "      <th>3</th>\n",
       "      <td>8.5</td>\n",
       "      <td>75</td>\n",
       "    </tr>\n",
       "    <tr>\n",
       "      <th>4</th>\n",
       "      <td>3.5</td>\n",
       "      <td>30</td>\n",
       "    </tr>\n",
       "  </tbody>\n",
       "</table>\n",
       "</div>"
      ],
      "text/plain": [
       "   Hours  Scores\n",
       "0    2.5      21\n",
       "1    5.1      47\n",
       "2    3.2      27\n",
       "3    8.5      75\n",
       "4    3.5      30"
      ]
     },
     "execution_count": 8,
     "metadata": {},
     "output_type": "execute_result"
    }
   ],
   "source": [
    "import numpy as np\n",
    "import matplotlib.pyplot as plt\n",
    "import pandas as pd\n",
    "\n",
    "df = pd.read_csv('../data/test_scores.csv')\n",
    "df.head(5)"
   ]
  },
  {
   "cell_type": "code",
   "execution_count": 10,
   "metadata": {},
   "outputs": [
    {
     "data": {
      "text/plain": [
       "Text(0, 0.5, 'y (Target) : Scores')"
      ]
     },
     "execution_count": 10,
     "metadata": {},
     "output_type": "execute_result"
    },
    {
     "data": {
      "image/png": "[encoded data removed]",
      "text/plain": [
       "<Figure size 400x300 with 1 Axes>"
      ]
     },
     "metadata": {},
     "output_type": "display_data"
    }
   ],
   "source": [
    "'''\n",
    "Taking the Hours and Scores columns as X and y \n",
    "and coverting them to numpy arrays.\n",
    "'''\n",
    "\n",
    "X = np.array(df['Hours']).reshape(-1,1)\n",
    "y = np.array(df['Scores'])\n",
    "\n",
    "# Plotting the data X(Hours) on x-axis and y(Scores) on y-axis\n",
    "plt.figure(figsize=(4,3)) # figure size\n",
    "plt.scatter(X, y)\n",
    "plt.title('Hours vs Scores')\n",
    "plt.xlabel('X (Input) : Hours')\n",
    "plt.ylabel('y (Target) : Scores')"
   ]
  },
  {
   "cell_type": "markdown",
   "metadata": {},
   "source": [
    "Here we need to define our hypothesis, in this case we assume a straight line: \n",
    "$h(x) = wX + b$\n",
    "\n",
    "Where $w = weights, b = bias$\n",
    "In our code we will refer to $h(x)$ as **y_h**"
   ]
  },
  {
   "cell_type": "markdown",
   "metadata": {},
   "source": [
    "For our example we can represent the data in 2-dimensions, weights is the gradient and bias is the y-intercept. If we had two features in our data instead of just one, we would represent the data in 3-dimensions and would require a plane to fit the data in 3-D space. So our hypothesis will be a plane rather than a straight line. As the number of features increases, the dimensions of our weights and bias increase.\n",
    "\n",
    "Some notation to keep in mind:\n",
    "$n$ → number of features (1 in our example, Hours)\n",
    "\n",
    "$m$ → number of training examples (25 in our example)\n",
    "\n",
    "$X$ → Features, a matrix of size (m, n); rows represent the training examples and columns represent the features.\n",
    "\n",
    "$y$ → labels/target, a matrix of size (m, 1); each row is a label for the corresponding set of features in X.\n",
    "\n",
    "$(X(i), y(i))$ → $ith$ example in the Training set"
   ]
  },
  {
   "cell_type": "markdown",
   "metadata": {},
   "source": [
    "### Loss function\n",
    "The next question is how to $w$ and $b$ such $h(x)$ is as close to $y$ as possible. This is where Loss Function comes in, defined as mean squared error. Since we are applying linear regression we can simplify our equation from the notes to: $L = 1/2m \\sum\\limits_{i=1}^m(\\hat{y}-y)^2$"
   ]
  },
  {
   "cell_type": "markdown",
   "metadata": {},
   "source": [
    "Before we build our model, to summarise the steps required:\n",
    "\n"
   ]
  },
  {
   "cell_type": "code",
   "execution_count": null,
   "metadata": {},
   "outputs": [],
   "source": [
    "# Before we build our model, to summarise the steps required:\n",
    "\n",
    "# 1. Seperate the data as X (features) and y (lables), and initialize the parameters randomly or to all zeros\n",
    "weights = np.zeros((n,1))  # n: number of features\n",
    "bias = 0\n",
    "\n",
    "# 2. Calculate y_hat \n",
    "y_hat = np.dot(X, weights) + bias\n",
    "\n",
    "# 3. Calculate gradients of loss with respect to parameters (weights and bias)\n",
    "dw = (1/m)*np.dot(X.T, (y_hat - y))\n",
    "db = (1/m)*np.sum((y_hat - y))\n",
    "\n",
    "# 4. Update the parameters\n",
    "weights -= lr*dw\n",
    "bias -= lr*db\n",
    "\n",
    "# 5. Repeat the above points. \n",
    "# The number of times you repeat is the number of steps you take downhill. \n",
    "# Also called epochs (or the number of iterations)."
   ]
  },
  {
   "cell_type": "code",
   "execution_count": 13,
   "metadata": {},
   "outputs": [],
   "source": [
    "# Linear Regression class\n",
    "class LinReg:\n",
    "    '''\n",
    "    Initializing lr: learning rate, epochs: no. of iterations, \n",
    "    weights & bias: parameters as None\n",
    "    default lr: 0.01, epochs: 800\n",
    "    '''\n",
    "    def __init__(self, lr=0.01, epochs=800):\n",
    "        self.lr = lr\n",
    "        self.epochs = epochs\n",
    "        self.weights = None\n",
    "        self.bias = None\n",
    "    # Training function: fit\n",
    "    def fit(self, X, y):\n",
    "        # shape of X: (number of training examples: m, number of    \n",
    "        # features: n)\n",
    "        m, n = X.shape    \n",
    "    \n",
    "        # Initializing weights as a matrix of zeros of size: (number\n",
    "        # of features: n, 1) and bias as 0\n",
    "        self.weights = np.zeros((n,1))\n",
    "        self.bias = 0\n",
    "        \n",
    "        # reshaping y as (m,1) in case your dataset initialized as \n",
    "        # (m,) which can cause problems\n",
    "        y = y.reshape(m,1)\n",
    "        \n",
    "        # empty lsit to store losses so we can plot them later \n",
    "        # against epochs\n",
    "        losses = []\n",
    "        \n",
    "        # Gradient Descent loop/ Training loop\n",
    "        for epoch in range(self.epochs):\n",
    "        \n",
    "            # Calculating prediction: y_hat or h(x)\n",
    "            y_hat = np.dot(X, self.weights) + self.bias\n",
    "     \n",
    "            # Calculting loss\n",
    "            loss = np.mean((y_hat - y)**2)\n",
    "    \n",
    "            # Appending loss in list: losses\n",
    "            losses.append(loss)\n",
    "    \n",
    "            # Calculating derivatives of parameters(weights, and \n",
    "            # bias) \n",
    "            dw = (1/m)*np.dot(X.T, (y_hat - y))\n",
    "            db = (1/m)*np.sum((y_hat - y))\n",
    "   # Updating the parameters: parameter := parameter - lr*derivative\n",
    "   # of loss/cost w.r.t parameter)\n",
    "            self.weights -= self.lr*dw\n",
    "            self.bias -= self.lr*db\n",
    "        \n",
    "        # returning the parameter so we can look at them later\n",
    "        return self.weights, self.bias, losses\n",
    "    # Predicting(calculating y_hat with our updated weights) for the \n",
    "    # testing/validation     \n",
    "    def predict(self, X):\n",
    "        return np.dot(X, self.weights) + self.bias"
   ]
  },
  {
   "cell_type": "markdown",
   "metadata": {},
   "source": [
    "##### Testing LinReg on our dataset "
   ]
  },
  {
   "cell_type": "code",
   "execution_count": 16,
   "metadata": {},
   "outputs": [
    {
     "data": {
      "text/plain": [
       "Text(0, 0.5, 'y (Target) : Scores')"
      ]
     },
     "execution_count": 16,
     "metadata": {},
     "output_type": "execute_result"
    },
    {
     "data": {
      "image/png": "[encoded data removed]",
      "text/plain": [
       "<Figure size 400x300 with 1 Axes>"
      ]
     },
     "metadata": {},
     "output_type": "display_data"
    }
   ],
   "source": [
    "# Training\n",
    "X_train, X_test, y_train, y_test = X[:20], X[20:], y[:20], y[20:]\n",
    "model = LinReg(epochs=100)\n",
    "w, b, l = model.fit(X_train,y_train)\n",
    "\n",
    "# Plotting\n",
    "fig = plt.figure(figsize=(4,3))\n",
    "plt.scatter(X, y)\n",
    "plt.plot(X, model.predict(X))  # X and predictions.\n",
    "plt.title('Hours vs Percentage')\n",
    "plt.xlabel('X (Input) : Hours')\n",
    "plt.ylabel('y (Target) : Scores')"
   ]
  },
  {
   "cell_type": "code",
   "execution_count": 15,
   "metadata": {},
   "outputs": [
    {
     "data": {
      "text/plain": [
       "array([[28.05316177],\n",
       "       [48.44669117],\n",
       "       [38.73548669],\n",
       "       [68.84022056],\n",
       "       [77.58030459]])"
      ]
     },
     "execution_count": 15,
     "metadata": {},
     "output_type": "execute_result"
    }
   ],
   "source": [
    "# Predicting\n",
    "X_test_preds = model.predict(X_test)\n",
    "X_test_preds"
   ]
  },
  {
   "cell_type": "code",
   "execution_count": 33,
   "metadata": {},
   "outputs": [
    {
     "data": {
      "text/plain": [
       "[28.053161769029384,\n",
       " 48.44669116666518,\n",
       " 38.735486691600514,\n",
       " 68.840220564301,\n",
       " 77.5803045918592]"
      ]
     },
     "execution_count": 33,
     "metadata": {},
     "output_type": "execute_result"
    }
   ],
   "source": [
    "# cleaning up \n",
    "X_test_preds = [val for sublist in X_test_preds.tolist() for val in sublist]"
   ]
  },
  {
   "cell_type": "code",
   "execution_count": 34,
   "metadata": {},
   "outputs": [
    {
     "data": {
      "text/html": [
       "<div>\n",
       "<style scoped>\n",
       "    .dataframe tbody tr th:only-of-type {\n",
       "        vertical-align: middle;\n",
       "    }\n",
       "\n",
       "    .dataframe tbody tr th {\n",
       "        vertical-align: top;\n",
       "    }\n",
       "\n",
       "    .dataframe thead th {\n",
       "        text-align: right;\n",
       "    }\n",
       "</style>\n",
       "<table border=\"1\" class=\"dataframe\">\n",
       "  <thead>\n",
       "    <tr style=\"text-align: right;\">\n",
       "      <th></th>\n",
       "      <th>Actual</th>\n",
       "      <th>Predicted</th>\n",
       "    </tr>\n",
       "  </thead>\n",
       "  <tbody>\n",
       "    <tr>\n",
       "      <th>0</th>\n",
       "      <td>30</td>\n",
       "      <td>28.053162</td>\n",
       "    </tr>\n",
       "    <tr>\n",
       "      <th>1</th>\n",
       "      <td>54</td>\n",
       "      <td>48.446691</td>\n",
       "    </tr>\n",
       "    <tr>\n",
       "      <th>2</th>\n",
       "      <td>35</td>\n",
       "      <td>38.735487</td>\n",
       "    </tr>\n",
       "    <tr>\n",
       "      <th>3</th>\n",
       "      <td>76</td>\n",
       "      <td>68.840221</td>\n",
       "    </tr>\n",
       "    <tr>\n",
       "      <th>4</th>\n",
       "      <td>86</td>\n",
       "      <td>77.580305</td>\n",
       "    </tr>\n",
       "  </tbody>\n",
       "</table>\n",
       "</div>"
      ],
      "text/plain": [
       "   Actual  Predicted\n",
       "0      30  28.053162\n",
       "1      54  48.446691\n",
       "2      35  38.735487\n",
       "3      76  68.840221\n",
       "4      86  77.580305"
      ]
     },
     "execution_count": 34,
     "metadata": {},
     "output_type": "execute_result"
    }
   ],
   "source": [
    "# Comparing true values to our predictions.\n",
    "Compare_df = pd.DataFrame({'Actual': y_test, 'Predicted': X_test_preds})\n",
    "Compare_df"
   ]
  },
  {
   "cell_type": "code",
   "execution_count": 19,
   "metadata": {},
   "outputs": [
    {
     "data": {
      "text/plain": [
       "Text(0, 0.5, 'Loss / Cost')"
      ]
     },
     "execution_count": 19,
     "metadata": {},
     "output_type": "execute_result"
    },
    {
     "data": {
      "image/png": "[encoded data removed]",
      "text/plain": [
       "<Figure size 800x600 with 1 Axes>"
      ]
     },
     "metadata": {},
     "output_type": "display_data"
    }
   ],
   "source": [
    "#  Loss vs epochs \n",
    "fig = plt.figure(figsize=(8,6))\n",
    "plt.plot([i for i in range(100)], l, 'r-')\n",
    "plt.xlabel('Number of iterations')\n",
    "plt.ylabel('Loss / Cost')"
   ]
  },
  {
   "cell_type": "markdown",
   "metadata": {},
   "source": [
    "#### sklearn implementation\n",
    "In practice we do not need to build a LinReg class from scratch, sklearn provides models off the shelf"
   ]
  },
  {
   "cell_type": "code",
   "execution_count": 39,
   "metadata": {},
   "outputs": [
    {
     "name": "stdout",
     "output_type": "stream",
     "text": [
      "Coefficients:  [9.52038609]\n",
      "Mean squared error: 35.18\n",
      "Coefficient of determination: 0.93\n"
     ]
    }
   ],
   "source": [
    "from sklearn import linear_model\n",
    "from sklearn.metrics import mean_squared_error, r2_score\n",
    "\n",
    "\n",
    "reg = linear_model.LinearRegression()\n",
    "\n",
    "# Train the model using the training sets\n",
    "reg.fit(X_train, y_train)\n",
    "\n",
    "# Make predictions using the testing set\n",
    "sk_y_pred = reg.predict(X_test)\n",
    "\n",
    "# The coefficients\n",
    "print(\"Coefficients: \", reg.coef_)\n",
    "# The mean squared error\n",
    "print(\"Mean squared error: %.2f\" % mean_squared_error(y_test, sk_y_pred))\n",
    "# The coefficient of determination: 1 is perfect prediction\n",
    "print(\"Coefficient of determination: %.2f\" % r2_score(y_test, sk_y_pred))"
   ]
  },
  {
   "cell_type": "code",
   "execution_count": 40,
   "metadata": {},
   "outputs": [
    {
     "data": {
      "text/html": [
       "<div>\n",
       "<style scoped>\n",
       "    .dataframe tbody tr th:only-of-type {\n",
       "        vertical-align: middle;\n",
       "    }\n",
       "\n",
       "    .dataframe tbody tr th {\n",
       "        vertical-align: top;\n",
       "    }\n",
       "\n",
       "    .dataframe thead th {\n",
       "        text-align: right;\n",
       "    }\n",
       "</style>\n",
       "<table border=\"1\" class=\"dataframe\">\n",
       "  <thead>\n",
       "    <tr style=\"text-align: right;\">\n",
       "      <th></th>\n",
       "      <th>Actual</th>\n",
       "      <th>Predicted</th>\n",
       "    </tr>\n",
       "  </thead>\n",
       "  <tbody>\n",
       "    <tr>\n",
       "      <th>0</th>\n",
       "      <td>30</td>\n",
       "      <td>28.736325</td>\n",
       "    </tr>\n",
       "    <tr>\n",
       "      <th>1</th>\n",
       "      <td>54</td>\n",
       "      <td>48.729136</td>\n",
       "    </tr>\n",
       "    <tr>\n",
       "      <th>2</th>\n",
       "      <td>35</td>\n",
       "      <td>39.208750</td>\n",
       "    </tr>\n",
       "    <tr>\n",
       "      <th>3</th>\n",
       "      <td>76</td>\n",
       "      <td>68.721947</td>\n",
       "    </tr>\n",
       "    <tr>\n",
       "      <th>4</th>\n",
       "      <td>86</td>\n",
       "      <td>77.290295</td>\n",
       "    </tr>\n",
       "  </tbody>\n",
       "</table>\n",
       "</div>"
      ],
      "text/plain": [
       "   Actual  Predicted\n",
       "0      30  28.736325\n",
       "1      54  48.729136\n",
       "2      35  39.208750\n",
       "3      76  68.721947\n",
       "4      86  77.290295"
      ]
     },
     "execution_count": 40,
     "metadata": {},
     "output_type": "execute_result"
    }
   ],
   "source": [
    "Compare_df = pd.DataFrame({'Actual': y_test, 'Predicted': sk_y_pred})\n",
    "Compare_df"
   ]
  },
  {
   "cell_type": "code",
   "execution_count": null,
   "metadata": {},
   "outputs": [],
   "source": []
  }
 ],
 "metadata": {
  "kernelspec": {
   "display_name": "Python 3.10.5 64-bit ('3.10.5')",
   "language": "python",
   "name": "python3"
  },
  "language_info": {
   "codemirror_mode": {
    "name": "ipython",
    "version": 3
   },
   "file_extension": ".py",
   "mimetype": "text/x-python",
   "name": "python",
   "nbconvert_exporter": "python",
   "pygments_lexer": "ipython3",
   "version": "3.10.5"
  },
  "orig_nbformat": 4,
  "vscode": {
   "interpreter": {
    "hash": "33fb0067f18d86a3651087674617504591bdf96783a50ffa3c268240e1b1f9c0"
   }
  }
 },
 "nbformat": 4,
 "nbformat_minor": 2
}
